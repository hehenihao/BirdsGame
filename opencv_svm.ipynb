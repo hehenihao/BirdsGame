{
 "cells": [
  {
   "cell_type": "code",
   "execution_count": 2,
   "metadata": {},
   "outputs": [],
   "source": [
    "import cv2\n",
    "import numpy as np\n",
    "import matplotlib.pyplot as plt\n",
    "\n",
    "# 1 par\n",
    "PosNum = 300\n",
    "NegNum = 500\n",
    "winSize = (40, 40)\n",
    "blockSize = (16, 16)  # 105\n",
    "blockStride = (8, 8)  # 4 cell\n",
    "cellSize = (8, 8)\n",
    "nBin = 9  # 9 bin \n"
   ]
  },
  {
   "cell_type": "code",
   "execution_count": 8,
   "metadata": {},
   "outputs": [],
   "source": [
    "# 2 hog create hog 1 win 2 block 3 blockStride 4 cell 5 bin\n",
    "hog = cv2.HOGDescriptor(winSize,blockSize,blockStride,cellSize,nBin)\n",
    "\n",
    "# 3 svm\n",
    "svm = cv2.ml.SVM_create()\n",
    "\n",
    "# 4 computer hog\n",
    "featureNum = int(((40 - 16) / 8 + 1) * ((40 - 16) / 8 + 1) * 4 * 9)  # 576\n",
    "featureArray = np.zeros(((PosNum+NegNum),featureNum),np.float32)\n",
    "labelArray = np.zeros(((PosNum+NegNum),1),np.int32)\n",
    "\n",
    "for i in range(0, PosNum):\n",
    "    fileName = 'data/positive/' + str(i) + '.bmp'\n",
    "    img = cv2.imread(fileName)\n",
    "    hist = hog.compute(img, (8,8))  # 576\n",
    "    featureArray[i: ] =  hist.reshape(576)\n",
    "    labelArray[i, 0] = 1\n",
    "\n",
    "for i in range(0, NegNum):\n",
    "    fileName = 'data/negative/' + str(i) + '.bmp'\n",
    "    img = cv2.imread(fileName)\n",
    "    hist = hog.compute(img, (8,8))  # 576\n",
    "    featureArray[i + PosNum: ] = hist.reshape(576)\n",
    "    labelArray[i + PosNum, 0] = -1"
   ]
  },
  {
   "cell_type": "code",
   "execution_count": 10,
   "metadata": {},
   "outputs": [],
   "source": [
    "svm.setType(cv2.ml.SVM_C_SVC)\n",
    "svm.setKernel(cv2.ml.SVM_LINEAR)\n",
    "svm.setC(0.01)\n",
    "# 6 train\n",
    "ret = svm.train(featureArray,cv2.ml.ROW_SAMPLE,labelArray)\n",
    "\n",
    "svm.save('opencv_svm_bird.xml')"
   ]
  },
  {
   "cell_type": "code",
   "execution_count": 29,
   "metadata": {},
   "outputs": [
    {
     "name": "stdout",
     "output_type": "stream",
     "text": [
      "(772, 1535, 3)\n",
      "()\n"
     ]
    },
    {
     "data": {
      "text/plain": [
       "-1"
      ]
     },
     "execution_count": 29,
     "metadata": {},
     "output_type": "execute_result"
    }
   ],
   "source": [
    "# 检测\n",
    "alpha = np.zeros((1),np.float32)\n",
    "rho = svm.getDecisionFunction(0,alpha)\n",
    "alphaArray = np.zeros((1,1),np.float32)\n",
    "supportVArray = np.zeros((1,featureNum),np.float32)\n",
    "resultArray = np.zeros((1,featureNum),np.float32)\n",
    "alphaArray[0,0] = alpha\n",
    "resultArray = -1*alphaArray*supportVArray\n",
    "# detect\n",
    "myDetect = np.zeros((577),np.float32)\n",
    "for i in range(0,576):\n",
    "    myDetect[i] = resultArray[0,i]\n",
    "myDetect[576] = rho[0]\n",
    "# rho svm （判决）\n",
    "myHog = cv2.HOGDescriptor(winSize,blockSize,blockStride,cellSize,nBin)\n",
    "myHog.setSVMDetector(myDetect)\n",
    "# myHog.load('opencv_svm_bird.xml')\n",
    "# load \n",
    "imageSrc = cv2.imread('data/test/red_one.png',1)\n",
    "print(imageSrc.shape)\n",
    "# (8,8) win \n",
    "# error: dsize.area() > 0 || (inv_scale_x > 0 && inv_scale_y > 0) in function cv::resize\n",
    "# https://github.com/msracver/FCIS/issues/113\n",
    "rects, objs = myHog.detectMultiScale(imageSrc,0,(8,8),(50,50),1.05,2)\n",
    "print(rects)\n",
    "# xy wh 三维 最后一维\n",
    "for (x, y, w, h) in rects:\n",
    "    cv2.rectangle(imageSrc, (x, y), (x + w, y + h), (0, 0, 255), 2)\n",
    "cv2.imshow('dst',imageSrc)\n",
    "cv2.waitKey(0)"
   ]
  }
 ],
 "metadata": {
  "kernelspec": {
   "display_name": "Python 3",
   "language": "python",
   "name": "python3"
  },
  "language_info": {
   "codemirror_mode": {
    "name": "ipython",
    "version": 3
   },
   "file_extension": ".py",
   "mimetype": "text/x-python",
   "name": "python",
   "nbconvert_exporter": "python",
   "pygments_lexer": "ipython3",
   "version": "3.6.1"
  }
 },
 "nbformat": 4,
 "nbformat_minor": 2
}
